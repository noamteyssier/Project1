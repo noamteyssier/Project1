{
 "cells": [
  {
   "cell_type": "markdown",
   "metadata": {},
   "source": [
    "# Load Modules"
   ]
  },
  {
   "cell_type": "code",
   "execution_count": 1,
   "metadata": {},
   "outputs": [],
   "source": [
    "import numpy as np\n",
    "import pandas as pd\n",
    "import plotly.express as px\n",
    "import plotly.io as pio\n",
    "from tqdm import tqdm\n",
    "\n",
    "pio.templates.default = \"plotly_white\""
   ]
  },
  {
   "cell_type": "markdown",
   "metadata": {},
   "source": [
    "# Part 1"
   ]
  },
  {
   "cell_type": "markdown",
   "metadata": {},
   "source": [
    "## For both Smith-Waterman and Needleman-Wunsch algorithms"
   ]
  },
  {
   "cell_type": "markdown",
   "metadata": {},
   "source": [
    "### What are the parameters and variables required for algorithm initialization, execution, and termination?\n"
   ]
  },
  {
   "cell_type": "markdown",
   "metadata": {},
   "source": [
    "For inputs :\n",
    "    - 2 sequences\n",
    "    - substitution matrix (i.e. the costs of pairwise substitution for all values in a lexicon)\n",
    "    - a gap extension penalty\n",
    "    - a gap opening penalty (optional)\n",
    "\n",
    "for execution and termination : \n",
    "    - a scoring matrix (keeps track of indexed alignment scores)\n",
    "    - a traceback matrix (keeps track of the direction to follow the scoring matrix)\n",
    "    - two gap navigation matrices (optional; one for query gaps and one for reference gaps)"
   ]
  },
  {
   "cell_type": "markdown",
   "metadata": {},
   "source": [
    "### What quantities are returned?"
   ]
  },
  {
   "cell_type": "markdown",
   "metadata": {},
   "source": [
    "- An alignment score\n",
    "- A reference sequence with gaps\n",
    "- A query sequence with gaps"
   ]
  },
  {
   "cell_type": "markdown",
   "metadata": {},
   "source": [
    "### What is the runtime complexity?"
   ]
  },
  {
   "cell_type": "markdown",
   "metadata": {},
   "source": [
    "To find an optimal score the runtime is O(mn) where m and n are the lengths of the two sequences being aligned\n",
    "\n",
    "This is because of every position in the sequence of each sequence must be compared to every position in the other sequence. It is essentially building cartesian product of alignment scores. "
   ]
  },
  {
   "cell_type": "markdown",
   "metadata": {},
   "source": [
    "## What functionalities in initialization, execution, and termination are shared between these algorithms? Which are not shared?"
   ]
  },
  {
   "cell_type": "markdown",
   "metadata": {},
   "source": [
    "So ultimately these algorithms share the same API, i.e. Align and Trace. Where the first step is building the alignment and traceback matrices and the second step is tracing back those matrices and reconstructing an alignment. The difference between them is as follows : \n",
    "    \n",
    "- NW is a global alignment\n",
    "    - Scores can fall below 0\n",
    "    - Traceback begins in the lowest right corner of the matrix always\n",
    "    \n",
    "- SW is a local alignment\n",
    "    - Scores below zero are set to zero\n",
    "    - Traceback begins at the highest score wherever it is in the matrix"
   ]
  },
  {
   "cell_type": "markdown",
   "metadata": {},
   "source": [
    "## How does affine-gap based alignment differ from linear-gap alignment in terms of implementation?"
   ]
  },
  {
   "cell_type": "markdown",
   "metadata": {},
   "source": [
    "The difference is minor (you could argue that linear-gap alignment is actually just an affine-gap based alignment with a zero extension cost). The affine-gap is allows for a loss-term for opening a gap and then scaling the gap extension. This is different than a linear-gap with no opening cost and a purely extension based penalty\n",
    "\n",
    "Affine-Gap Loss = <Gap_Opening_Penalty> + (<Gap_Extension_Penalty> * <Length_of_Gap>)"
   ]
  },
  {
   "cell_type": "code",
   "execution_count": null,
   "metadata": {},
   "outputs": [],
   "source": []
  }
 ],
 "metadata": {
  "kernelspec": {
   "display_name": "Python 3",
   "language": "python",
   "name": "python3"
  },
  "language_info": {
   "codemirror_mode": {
    "name": "ipython",
    "version": 3
   },
   "file_extension": ".py",
   "mimetype": "text/x-python",
   "name": "python",
   "nbconvert_exporter": "python",
   "pygments_lexer": "ipython3",
   "version": "3.8.5"
  },
  "toc": {
   "base_numbering": 1,
   "nav_menu": {},
   "number_sections": true,
   "sideBar": true,
   "skip_h1_title": false,
   "title_cell": "Table of Contents",
   "title_sidebar": "Contents",
   "toc_cell": false,
   "toc_position": {},
   "toc_section_display": true,
   "toc_window_display": true
  }
 },
 "nbformat": 4,
 "nbformat_minor": 4
}
